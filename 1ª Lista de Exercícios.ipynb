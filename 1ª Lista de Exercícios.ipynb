{
 "cells": [
  {
   "cell_type": "markdown",
   "metadata": {},
   "source": [
    "# 1ª Lista de Exercícios\n",
    "## CC0289 - ESTATISTICA COMPUTACIONAL - 2019.1 - UFC \n",
    "## Autor: Daniel Magalhães Nunes - Matricula: 376163"
   ]
  },
  {
   "cell_type": "markdown",
   "metadata": {},
   "source": [
    "### Capítulo 3: Números Aleatórios"
   ]
  },
  {
   "cell_type": "code",
   "execution_count": 1,
   "metadata": {},
   "outputs": [
    {
     "data": {
      "text/plain": [
       "[15, 45, 135, 105, 15, 45, 135, 105, 15, 45]"
      ]
     },
     "execution_count": 1,
     "metadata": {},
     "output_type": "execute_result"
    }
   ],
   "source": [
    "# Questão 1\n",
    "def lcg_q1(m, a, c, semente):\n",
    "  while True:\n",
    "    semente = (a * semente + c) % m\n",
    "    yield semente\n",
    "\n",
    "questão1 = lcg_q1(150, 3, 0, 5)\n",
    "[next(questão1) for i in range(10)]"
   ]
  },
  {
   "cell_type": "code",
   "execution_count": 2,
   "metadata": {},
   "outputs": [
    {
     "data": {
      "text/plain": [
       "[22, 117, 192, 167, 42, 17, 92, 67, 142, 117]"
      ]
     },
     "execution_count": 2,
     "metadata": {},
     "output_type": "execute_result"
    }
   ],
   "source": [
    "# Questão 2\n",
    "def lcg_q2(m, a, c, semente):\n",
    "  while True:\n",
    "    semente = (a * semente + c) % m\n",
    "    yield semente\n",
    "\n",
    "questão2 = lcg_q2(200, 5, 7, 3)\n",
    "[next(questão2) for i in range(10)]"
   ]
  },
  {
   "cell_type": "code",
   "execution_count": 11,
   "metadata": {},
   "outputs": [],
   "source": [
    "# Função que dado uma função g(x) retorna a integral de g de 0 a 1\n",
    "def integral0a1(g, n=1000):\n",
    "    from numpy.random import random\n",
    "    U = random(n) # Gerando n números aleatórios u1, u2, ... un, uniformemente distribuídos em [0, 1]\n",
    "    gU = [g(u) for u in U]\n",
    "    from statistics import mean\n",
    "    return mean(gU)"
   ]
  },
  {
   "cell_type": "code",
   "execution_count": 12,
   "metadata": {},
   "outputs": [],
   "source": [
    "# Função que dado uma função g(x) retorna a integral de g de a a b\n",
    "def integralAaB(g, a, b, n=10000):\n",
    "    from numpy.random import random\n",
    "    U = random(n) # Gerando n números aleatórios u1, u2, ... un, uniformemente distribuídos em [0, 1]\n",
    "    Y = [(b-a) * g(a + u*(b - a)) for u in U]\n",
    "    from statistics import mean\n",
    "    return mean(Y)"
   ]
  },
  {
   "cell_type": "code",
   "execution_count": 13,
   "metadata": {},
   "outputs": [],
   "source": [
    "# Função que dado uma função g(x) retorna a integral de g de 0 a infinito\n",
    "def integral0aInfinito(g, n=1000000):\n",
    "    def h(y):\n",
    "        return g((1-y)/y) / y**2\n",
    "    return integral0a1(h, n)"
   ]
  },
  {
   "cell_type": "code",
   "execution_count": 14,
   "metadata": {},
   "outputs": [],
   "source": [
    "# Função que dado uma função g(x) retorna a integral de g de menos infinito a mais infinito\n",
    "def integralmenosinfinitoAinfinito(g, n=10000):\n",
    "    def hmais(y):\n",
    "        return g((1-y)/y) / y**2\n",
    "    def hmenos(y):\n",
    "        return g(-(1-y)/y) / y**2\n",
    "    return integral0a1(hmais, n) + integral0a1(hmenos, n)"
   ]
  },
  {
   "cell_type": "code",
   "execution_count": 40,
   "metadata": {},
   "outputs": [
    {
     "name": "stdout",
     "output_type": "stream",
     "text": [
      "Questão 3: 6.32340415055851\n",
      "Questão 3 exata: 6.316563839027678\n"
     ]
    }
   ],
   "source": [
    "# Questão 3\n",
    "import scipy.integrate as integrate\n",
    "from math import e\n",
    "def f1(x):\n",
    "    return e**(e**x)\n",
    "questão1 = integral0a1(f1)\n",
    "questão1_exata = integrate.quad(f1, 0, 1)\n",
    "print('Questão 3: {}'.format(questão1))\n",
    "print('Questão 3 exata: {}'.format(questão1_exata[0]))"
   ]
  },
  {
   "cell_type": "code",
   "execution_count": 41,
   "metadata": {},
   "outputs": [
    {
     "name": "stdout",
     "output_type": "stream",
     "text": [
      "Questão 4: 0.5795337197825079\n",
      "Questão 4 exata: 0.5890486225402517\n"
     ]
    }
   ],
   "source": [
    "# Questão 4\n",
    "import scipy.integrate as integrate\n",
    "def f2(x):\n",
    "    return (1 - x**2)**(3/2)\n",
    "questão2 = integral0a1(f2)\n",
    "questão2_exata = integrate.quad(f2, 0, 1)\n",
    "print('Questão 4: {}'.format(questão2))\n",
    "print('Questão 4 exata: {}'.format(questão2_exata[0]))"
   ]
  },
  {
   "cell_type": "code",
   "execution_count": 58,
   "metadata": {},
   "outputs": [
    {
     "name": "stdout",
     "output_type": "stream",
     "text": [
      "Questão 5: 93.87592959421454\n",
      "Questão 5 exata: 93.16275329244195\n"
     ]
    }
   ],
   "source": [
    "# Questão 5\n",
    "import scipy.integrate as integrate\n",
    "from math import e\n",
    "def f3(x):\n",
    "    return e**(x + x**2)\n",
    "questão3 = integralAaB(f3, -2, 2)\n",
    "questão3_exata = integrate.quad(f3, -2, 2)\n",
    "print('Questão 5: {}'.format(questão3))\n",
    "print('Questão 5 exata: {}'.format(questão3_exata[0]))"
   ]
  },
  {
   "cell_type": "code",
   "execution_count": 61,
   "metadata": {},
   "outputs": [
    {
     "name": "stdout",
     "output_type": "stream",
     "text": [
      "Questão 6: 0.4994220970039985\n",
      "Questão 6 exata: 0.5\n"
     ]
    }
   ],
   "source": [
    "# Questão 6\n",
    "import scipy.integrate as integrate\n",
    "import numpy as np\n",
    "def f6(x):\n",
    "    return x * (1 + x**2)**-2\n",
    "questão6 = integral0aInfinito(f6)\n",
    "questão6_exata = integrate.quad(f6, 0, np.inf)\n",
    "print('Questão 6: {}'.format(questão6))\n",
    "print('Questão 6 exata: {}'.format(questão6_exata[0]))"
   ]
  },
  {
   "cell_type": "code",
   "execution_count": 63,
   "metadata": {},
   "outputs": [
    {
     "name": "stdout",
     "output_type": "stream",
     "text": [
      "Questão 7: 1.7737094503435844\n",
      "Questão 7 exata: 1.772453850905516\n"
     ]
    }
   ],
   "source": [
    "# Questão 7\n",
    "import scipy.integrate as integrate\n",
    "import numpy as np\n",
    "def f7(x):\n",
    "    return np.e**(-x**2)\n",
    "questão7 = integralmenosinfinitoAinfinito(f7)\n",
    "questão7_exata = integrate.quad(f7, -np.inf, np.inf)\n",
    "print('Questão 7: {}'.format(questão7))\n",
    "print('Questão 7 exata: {}'.format(questão7_exata[0]))"
   ]
  },
  {
   "cell_type": "code",
   "execution_count": 65,
   "metadata": {},
   "outputs": [],
   "source": [
    "# Função que dado uma função g(x, y) retorna a integral dupla de g de 0 a 1\n",
    "def integral0a1dupla(g, n=1000):\n",
    "    from numpy.random import random\n",
    "    Ux = random(n) # Gerando n números aleatórios u1, u2, ... un, uniformemente distribuídos em [0, 1]\n",
    "    Uy = random(n) # Gerando n números aleatórios u1, u2, ... un, uniformemente distribuídos em [0, 1]\n",
    "    gUxy = [g(Ux[i], Uy[i]) for i in range(n)]\n",
    "    from statistics import mean\n",
    "    return mean(gUxy)"
   ]
  },
  {
   "cell_type": "code",
   "execution_count": 71,
   "metadata": {},
   "outputs": [
    {
     "name": "stdout",
     "output_type": "stream",
     "text": [
      "Questão 8: 4.931230428866161\n",
      "Questão 8 exata: 4.899158851087022\n"
     ]
    }
   ],
   "source": [
    "# Questão 8\n",
    "import scipy.integrate as integrate\n",
    "import numpy as np\n",
    "def f8(x, y):\n",
    "    return np.e**((x + y)**2)\n",
    "questão8 = integral0a1dupla(f8)\n",
    "questão8_exata = integrate.dblquad(f8, 0, 1, 0, 1)\n",
    "print('Questão 8: {}'.format(questão8))\n",
    "print('Questão 8 exata: {}'.format(questão8_exata[0]))"
   ]
  },
  {
   "cell_type": "markdown",
   "metadata": {},
   "source": [
    "Questão 9 - fazendo a seguinte tranaformação: $x = \\frac{u}{1-u} , y = \\frac{v}{1-v} $ ficamos com  $\\int_{0}^{\\infty} \\int_{0}^{x} e^{-(x+y)}dydx =  \n",
    "\\int_{0}^{1} \\int_{0}^{1} 1_{\\left \\{ v \\leq u  \\right \\}} \\frac{e^{-(\\frac{u}{1-u} + \\frac{v}{1-v})}}{ (1-u)^{2} (1-v)^{2}}  dudv$"
   ]
  },
  {
   "cell_type": "code",
   "execution_count": 24,
   "metadata": {},
   "outputs": [],
   "source": [
    "def integralquestao9(g, n=1000):\n",
    "    from numpy.random import random\n",
    "    Ux = random(n) # Gerando n números aleatórios u1, u2, ... un, uniformemente distribuídos em [0, 1]\n",
    "    Uy = random(n) # Gerando n números aleatórios u1, u2, ... un, uniformemente distribuídos em [0, 1]\n",
    "    gUxy = [g(Ux[i], Uy[i]) for i in range(n)]\n",
    "    from statistics import mean\n",
    "    return mean(gUxy)"
   ]
  },
  {
   "cell_type": "code",
   "execution_count": 25,
   "metadata": {},
   "outputs": [
    {
     "name": "stdout",
     "output_type": "stream",
     "text": [
      "Questão 9: 1.00205685818282\n",
      "Questão 9 exata: 0.5000000000000001\n"
     ]
    }
   ],
   "source": [
    "import numpy as np\n",
    "import scipy.integrate as integrate\n",
    "def f9(u, v):\n",
    "    return np.e**(-((u/(1-u)) + (v/(1-v)))) / ((1-u)**2 * (1-v)**2)\n",
    "questão9 = integralquestao9(f9)\n",
    "questão9_exata = integrate.dblquad(lambda x, y: np.e**(-(x+y)) , 0, np.inf, 0, lambda x: x)\n",
    "print('Questão 9: {}'.format(questão9))\n",
    "print('Questão 9 exata: {}'.format(questão9_exata[0]))   "
   ]
  },
  {
   "cell_type": "code",
   "execution_count": 32,
   "metadata": {},
   "outputs": [
    {
     "name": "stdout",
     "output_type": "stream",
     "text": [
      "Questão 10: 0.13718153537107092\n"
     ]
    }
   ],
   "source": [
    "# Questão 10\n",
    "# Cov(X;Y) = E[XY] − E[X]E[Y]\n",
    "from numpy.random import random\n",
    "from statistics import mean\n",
    "U = random(10)\n",
    "eU = np.e**U\n",
    "eUU = U * eU\n",
    "\n",
    "questão10 = mean(eUU) - (mean(U) * mean(eU))\n",
    "print('Questão 10: {}'.format(questão10))"
   ]
  },
  {
   "cell_type": "code",
   "execution_count": 35,
   "metadata": {},
   "outputs": [
    {
     "name": "stdout",
     "output_type": "stream",
     "text": [
      "Questão 11 a): -0.050709063470991966\n"
     ]
    }
   ],
   "source": [
    "# Questão 11 item a\n",
    "# Cov(X;Y) = E[XY] − E[X]E[Y]\n",
    "from numpy.random import random\n",
    "from statistics import mean\n",
    "U = random(100)\n",
    "eU = (1 - U**2)**(1/2)\n",
    "eUU = U * eU\n",
    "\n",
    "questão11a = mean(eUU) - (mean(U) * mean(eU))\n",
    "print('Questão 11 a): {}'.format(questão11a))"
   ]
  },
  {
   "cell_type": "code",
   "execution_count": 38,
   "metadata": {},
   "outputs": [
    {
     "name": "stdout",
     "output_type": "stream",
     "text": [
      "Questão 11 b): -0.06583941472795962\n"
     ]
    }
   ],
   "source": [
    "# Questão 11 item b\n",
    "# Cov(X;Y) = E[XY] − E[X]E[Y]\n",
    "from numpy.random import random\n",
    "from statistics import mean\n",
    "U = random(100)\n",
    "U2 = U**2\n",
    "UU2 = (1 - U**2)**(1/2)\n",
    "UUU2 = U2 * (1 - U**2)**(1/2)\n",
    "\n",
    "questão11b = mean(UUU2) - (mean(U2) * mean(UU2))\n",
    "print('Questão 11 b): {}'.format(questão11b))"
   ]
  },
  {
   "cell_type": "code",
   "execution_count": 26,
   "metadata": {},
   "outputs": [
    {
     "name": "stdout",
     "output_type": "stream",
     "text": [
      "Questão 12\n",
      "Item a) 2.71\n",
      "Item b) 2.743\n",
      "Item c) 2.7098\n",
      "O valor de N é e Neperiano\n"
     ]
    }
   ],
   "source": [
    "# Qustão 12\n",
    "from numpy.random import random\n",
    "from statistics import mean\n",
    "def GN():\n",
    "    s = 0\n",
    "    cont = 0\n",
    "    while s <= 1:\n",
    "        s += random()\n",
    "        cont += 1\n",
    "    return cont\n",
    "\n",
    "def q12(n):\n",
    "    total = 0\n",
    "    for i in range(n):\n",
    "        total += GN()\n",
    "    return total / n\n",
    "print('Questão 12')\n",
    "print('Item a) {}'.format(q12(100)))\n",
    "print('Item b) {}'.format(q12(1000)))\n",
    "print('Item c) {}'.format(q12(10000)))\n",
    "print('O valor de N é e Neperiano')"
   ]
  },
  {
   "cell_type": "code",
   "execution_count": 27,
   "metadata": {},
   "outputs": [
    {
     "name": "stdout",
     "output_type": "stream",
     "text": [
      "Questão 12\n",
      "E[N] = 3.019\n",
      "P(X = 0) = 0.049\n",
      "P(X = 1) = 0.165\n",
      "P(X = 2) = 0.188\n",
      "P(X = 3) = 0.238\n",
      "P(X = 4) = 0.174\n",
      "P(X = 5) = 0.098\n",
      "P(X = 6) = 0.053\n"
     ]
    }
   ],
   "source": [
    "# Questão 13\n",
    "import numpy as np\n",
    "def logunif():\n",
    "    s = 0\n",
    "    cont = 0\n",
    "    while s >= -3:\n",
    "        s += np.log(np.random.random())\n",
    "        cont += 1\n",
    "    return cont - 1\n",
    "def questa13(n):\n",
    "    total = 0\n",
    "    teste = np.arange(7)\n",
    "    cont = np.zeros(7)\n",
    "    for i in range(n):\n",
    "        temp = logunif()\n",
    "        cont += (teste == temp)\n",
    "        total += temp\n",
    "    print('E[N] = {}'.format(total/n))\n",
    "    for i in range(7):\n",
    "        print('P(X = {0}) = {1}'.format(i, cont[i]/n))\n",
    "print('Questão 12')\n",
    "questa13(1000)        "
   ]
  },
  {
   "cell_type": "code",
   "execution_count": 24,
   "metadata": {},
   "outputs": [
    {
     "name": "stdout",
     "output_type": "stream",
     "text": [
      "Questão 14\n",
      "[0.23, 0.66, 0.13, 0.69, 0.72, 0.61, 0.43, 0.34, 0.17, 0.21, 0.48, 0.49, 0.87, 0.06, 0.53]\n"
     ]
    }
   ],
   "source": [
    "# Questão 14\n",
    "def questao14():\n",
    "    l = [23, 66]\n",
    "    for i in range(2, 15):\n",
    "        l.append((3*l[i-1] + 5*l[i-2]) % 100)\n",
    "    U = [i/100 for i in l]\n",
    "    print(U)\n",
    "print('Questão 14')\n",
    "questao14()"
   ]
  },
  {
   "cell_type": "code",
   "execution_count": null,
   "metadata": {},
   "outputs": [],
   "source": []
  }
 ],
 "metadata": {
  "kernelspec": {
   "display_name": "Python 3",
   "language": "python",
   "name": "python3"
  },
  "language_info": {
   "codemirror_mode": {
    "name": "ipython",
    "version": 3
   },
   "file_extension": ".py",
   "mimetype": "text/x-python",
   "name": "python",
   "nbconvert_exporter": "python",
   "pygments_lexer": "ipython3",
   "version": "3.7.1"
  }
 },
 "nbformat": 4,
 "nbformat_minor": 2
}
