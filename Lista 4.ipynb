{
 "cells": [
  {
   "cell_type": "markdown",
   "metadata": {},
   "source": [
    "# Lista 4 - Métodos de Otimização\n",
    "# Daniel Magalhães Nunes - 376163"
   ]
  },
  {
   "cell_type": "markdown",
   "metadata": {},
   "source": [
    "## Questão 1"
   ]
  },
  {
   "cell_type": "markdown",
   "metadata": {},
   "source": [
    "## tome $\\beta = (\\beta_{1}, \\beta_{2}) $"
   ]
  },
  {
   "cell_type": "markdown",
   "metadata": {},
   "source": [
    "## Questão 1 $$\\frac{\\partial l(\\beta)}{\\partial \\beta} = \\sum_{i=1}^{D} x_{i}(y_{i} - \\mu(x_{i};\\beta)) = 0$$"
   ]
  },
  {
   "cell_type": "markdown",
   "metadata": {},
   "source": [
    "## Questão 2  $$\\frac{\\partial^{2} l(\\beta)}{\\partial \\beta \\partial \\beta^{T}} = - \\sum_{i=1}^{D} x_{i}x_{i}^{T}\\mu(x_{i};\\beta)(1 - \\mu(x_{i};\\beta))$$"
   ]
  },
  {
   "cell_type": "markdown",
   "metadata": {},
   "source": [
    "## Questão 3  $$ E( \\sum_{i=1}^{D} x_{i}x_{i}^{T}\\mu(x_{i};\\beta)(1 - \\mu(x_{i};\\beta)))$$"
   ]
  },
  {
   "cell_type": "markdown",
   "metadata": {},
   "source": [
    "## Questão 4 Item a)"
   ]
  },
  {
   "cell_type": "code",
   "execution_count": 3,
   "metadata": {},
   "outputs": [],
   "source": [
    "# Parâmetros\n",
    "tam = 8\n",
    "dose = [3.00, 3.40, 3.69, 3.91, 4.09, 4.25, 4.38, 4.50]\n",
    "W = [1, 12, 21, 34, 39, 44, 48, 49]\n",
    "n = [50, 50, 50, 50, 50, 50, 50, 50]"
   ]
  },
  {
   "cell_type": "code",
   "execution_count": 1,
   "metadata": {},
   "outputs": [],
   "source": [
    "from scipy.optimize import least_squares as ls, minimize\n",
    "import numpy as np\n",
    "from math import e\n",
    "import math"
   ]
  },
  {
   "cell_type": "code",
   "execution_count": 5,
   "metadata": {},
   "outputs": [],
   "source": [
    "def mi_logito(b, x):\n",
    "    return e**(b[0] + b[1]*x) / (1 + e**(b[0] + b[1]*x))"
   ]
  },
  {
   "cell_type": "code",
   "execution_count": 19,
   "metadata": {},
   "outputs": [],
   "source": [
    "def Q(b):\n",
    "    return sum([(W[i] - n[i]*mi_logito(b, dose[i]))**2 for i in range(tam)])"
   ]
  },
  {
   "cell_type": "code",
   "execution_count": 20,
   "metadata": {},
   "outputs": [],
   "source": [
    "resposta = ls(Q, [2, 2])"
   ]
  },
  {
   "cell_type": "code",
   "execution_count": 24,
   "metadata": {},
   "outputs": [
    {
     "name": "stdout",
     "output_type": "stream",
     "text": [
      "RESPOSTA:\n",
      "beta1 =  -2.0285367102728\n",
      "beta2 =  0.6702803095601422\n"
     ]
    }
   ],
   "source": [
    "print('RESPOSTA:')\n",
    "print('beta1 = ',resposta.x[0])\n",
    "print('beta2 = ',resposta.x[1])"
   ]
  },
  {
   "cell_type": "markdown",
   "metadata": {},
   "source": [
    "## Questão 4 Item b)"
   ]
  },
  {
   "cell_type": "code",
   "execution_count": 1,
   "metadata": {},
   "outputs": [],
   "source": [
    "def l(b):\n",
    "    s = sum([W[i] * math.log(mi_logito(b, dose[i])) + (n[i] - W[i]) * math.log(1 - mi_logito(b, dose[i])) for i in range(tam)])\n",
    "    return s"
   ]
  },
  {
   "cell_type": "code",
   "execution_count": 2,
   "metadata": {},
   "outputs": [],
   "source": [
    "def discrete_method_approx(f, x, h=0.000001):\n",
    "    return (f(x+h) - f(x)) / h\n",
    " \n",
    "def newton_raphson(f, x, tolerance=0.01):\n",
    "    steps_taken = 0\n",
    " \n",
    "    for i in range(100000):\n",
    "        df = discrete_method_approx(f, x)\n",
    "        x = x - f(x)/df\n",
    "        \n",
    "        steps_taken += 1\n",
    "    return x"
   ]
  },
  {
   "cell_type": "code",
   "execution_count": 8,
   "metadata": {},
   "outputs": [],
   "source": [
    "resposta2 = newton_raphson(l, np.array([0, 0]))"
   ]
  },
  {
   "cell_type": "code",
   "execution_count": 10,
   "metadata": {},
   "outputs": [
    {
     "name": "stdout",
     "output_type": "stream",
     "text": [
      "RESPOSTA Newton Raphson:\n",
      "beta1 =  3.1603937953565486\n",
      "beta2 =  3.1603937953565486\n"
     ]
    }
   ],
   "source": [
    "print('RESPOSTA Newton Raphson:')\n",
    "print('beta1 = ',resposta2[0])\n",
    "print('beta2 = ',resposta2[1])"
   ]
  },
  {
   "cell_type": "markdown",
   "metadata": {},
   "source": [
    "## Questão 5"
   ]
  },
  {
   "cell_type": "code",
   "execution_count": 10,
   "metadata": {},
   "outputs": [],
   "source": [
    "# Parâmetros Gerados\n",
    "tam = 10\n",
    "dose = np.linspace(4, 6, num=tam)\n",
    "W = np.random.randint(1, 50, tam, dtype='int')\n",
    "n = [60, 60, 60, 60, 60, 60, 60, 60, 60, 60]"
   ]
  },
  {
   "cell_type": "code",
   "execution_count": 11,
   "metadata": {},
   "outputs": [],
   "source": [
    "from scipy.optimize import least_squares as ls"
   ]
  },
  {
   "cell_type": "code",
   "execution_count": 12,
   "metadata": {},
   "outputs": [
    {
     "name": "stdout",
     "output_type": "stream",
     "text": [
      "RESPOSTA:\n",
      "beta1 =  0.6750485538453789\n",
      "beta2 =  -0.19263913805386823\n"
     ]
    }
   ],
   "source": [
    "def mi_logito(b, x):\n",
    "    return e**(b[0] + b[1]*x) / (1 + e**(b[0] + b[1]*x))\n",
    "def Q(b):\n",
    "    return sum([(W[i] - n[i]*mi_logito(b, dose[i]))**2 for i in range(tam)])\n",
    "\n",
    "resposta = ls(Q, [2, 2])\n",
    "print('RESPOSTA:')\n",
    "print('beta1 = ',resposta.x[0])\n",
    "print('beta2 = ',resposta.x[1])"
   ]
  },
  {
   "cell_type": "code",
   "execution_count": null,
   "metadata": {},
   "outputs": [],
   "source": []
  }
 ],
 "metadata": {
  "kernelspec": {
   "display_name": "Python 3",
   "language": "python",
   "name": "python3"
  },
  "language_info": {
   "codemirror_mode": {
    "name": "ipython",
    "version": 3
   },
   "file_extension": ".py",
   "mimetype": "text/x-python",
   "name": "python",
   "nbconvert_exporter": "python",
   "pygments_lexer": "ipython3",
   "version": "3.6.5"
  }
 },
 "nbformat": 4,
 "nbformat_minor": 2
}
