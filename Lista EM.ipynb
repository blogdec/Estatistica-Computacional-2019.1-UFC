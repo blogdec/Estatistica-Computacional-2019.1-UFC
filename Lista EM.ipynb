{
 "cells": [
  {
   "cell_type": "markdown",
   "metadata": {},
   "source": [
    "# Lista - Algoritmo EM (Expectation and Maximization)\n",
    "# Daniel Magalhães Nunes - 376163"
   ]
  },
  {
   "cell_type": "markdown",
   "metadata": {},
   "source": [
    "## Exemplo 1: Modelo t de Student"
   ]
  },
  {
   "cell_type": "code",
   "execution_count": 16,
   "metadata": {},
   "outputs": [],
   "source": [
    "from scipy.stats import t, norm\n",
    "import numpy as np"
   ]
  },
  {
   "cell_type": "code",
   "execution_count": 6,
   "metadata": {},
   "outputs": [],
   "source": [
    "n = 100\n",
    "kmax = 50\n",
    "tol = 10**(-4)\n",
    "mu_Real = 10\n",
    "sigma2_Real = 4\n",
    "sigma_Real = 2\n",
    "v = 5\n",
    "Y = t.rvs(df=v, loc=mu_Real, scale=sigma_Real, size=n, random_state=123)"
   ]
  },
  {
   "cell_type": "code",
   "execution_count": 11,
   "metadata": {},
   "outputs": [],
   "source": [
    "mu = [np.mean(Y)]\n",
    "sigma2 = [np.std(Y)]\n",
    "\n",
    "for k in range(kmax):\n",
    "    ## Passo E\n",
    "    di = ((Y - mu[k])**2)/sigma2[k]\n",
    "    si = (v + 1) / (v + di)\n",
    "    \n",
    "    ## Passo M\n",
    "    mu.append(sum(Y*si)/sum(si))\n",
    "    sigma2.append(sum((Y-mu[k])**2*si)/n)\n",
    "    tol1 = abs(sigma2[k+1]-sigma2[k])\n",
    "    tol2 = abs(mu[k+1]-mu[k])\n",
    "    tolerancia = max(tol1, tol2)\n",
    "    \n",
    "    if tolerancia < tol:\n",
    "        break"
   ]
  },
  {
   "cell_type": "code",
   "execution_count": 15,
   "metadata": {},
   "outputs": [
    {
     "name": "stdout",
     "output_type": "stream",
     "text": [
      "Média Real= 10\n",
      "Média estimada= 9.847174167062716\n",
      "Variancia Real= 4\n",
      "Variancia estimada= 4.418669622725625\n"
     ]
    }
   ],
   "source": [
    "print('Média Real= {0}\\nMédia estimada= {1}'.format(mu_Real, mu[-1]))\n",
    "print('Variancia Real= {0}\\nVariancia estimada= {1}'.format(sigma2_Real, sigma2[-1]))"
   ]
  },
  {
   "cell_type": "markdown",
   "metadata": {},
   "source": [
    "## Questão 1 - modelo de regressão linear com erro t de Student"
   ]
  },
  {
   "cell_type": "code",
   "execution_count": 30,
   "metadata": {},
   "outputs": [],
   "source": [
    "n = 100\n",
    "kmax = 50\n",
    "tol = 10**(-4)\n",
    "mu_Real = 1.65\n",
    "sigma2_Real = 0.0225\n",
    "sigma_Real = 0.15\n",
    "v = 10\n",
    "alfa_real = -170\n",
    "beta_real = 140\n",
    "x = norm.rvs(loc=mu_Real, scale=sigma_Real, size=n)\n",
    "erro = t.rvs(df=v, size=n)\n",
    "Y = alfa_real + beta_real*x + sigma_Real*erro"
   ]
  },
  {
   "cell_type": "code",
   "execution_count": 36,
   "metadata": {},
   "outputs": [],
   "source": [
    "mu = [np.mean(Y)]\n",
    "\n",
    "beta_chapeu = sum((x - np.mean(x))*Y) / sum((x - np.mean(x))**2)\n",
    "alfa_chapeu = np.mean(Y) - beta_chapeu*np.mean(x)\n",
    "sigma_chapeu = sum((Y - (alfa_chapeu + beta_chapeu*x))**2)/n\n",
    "alfa = [alfa_chapeu]\n",
    "beta = [beta_chapeu]\n",
    "sigma2 = [sigma_chapeu]\n",
    "for k in range(kmax):\n",
    "    ## Passo E\n",
    "    di = ((Y - (alfa[k] + beta[k]))**2)/sigma2[k]\n",
    "    si = (v + 1) / (v + di)\n",
    "    \n",
    "    ## Passo M\n",
    "    \n",
    "    beta_chapeu = sum((x - np.mean(x))*Y*si) /  sum(si *(x - np.mean(x))**2)\n",
    "    alfa_chapeu = np.mean(Y) - beta_chapeu*np.mean(x)\n",
    "    sigma_chapeu = sum(si * (Y - (alfa_chapeu + beta_chapeu*x))**2)/n\n",
    "    \n",
    "    \n",
    "    \n",
    "    mu.append(sum(Y*si)/sum(si))\n",
    "    sigma2.append(sigma_chapeu)\n",
    "    alfa.append(alfa_chapeu)\n",
    "    beta.append(beta_chapeu)\n",
    "    \n",
    "    tol1 = abs(sigma2[k+1]-sigma2[k])\n",
    "    tol2 = abs(alfa[k+1]-alfa[k])\n",
    "    tol3 = abs(beta[k+1]-beta[k])\n",
    "    tolerancia = max([tol1, tol2, tol3])\n",
    "    \n",
    "    if tolerancia < tol:\n",
    "        break"
   ]
  },
  {
   "cell_type": "code",
   "execution_count": 37,
   "metadata": {},
   "outputs": [
    {
     "name": "stdout",
     "output_type": "stream",
     "text": [
      "Alfa Real= -170\n",
      "Alfa estimado= -350.0676994526985\n",
      "Beta Real= 140\n",
      "Beta estimado= 249.84060252034936\n",
      "Variancia Real= 0.0225\n",
      "Variancia estimada= 79.20803988371789\n"
     ]
    }
   ],
   "source": [
    "print('Alfa Real= {0}\\nAlfa estimado= {1}'.format(alfa_real, alfa[-1]))\n",
    "print('Beta Real= {0}\\nBeta estimado= {1}'.format(beta_real, beta[-1]))\n",
    "print('Variancia Real= {0}\\nVariancia estimada= {1}'.format(sigma2_Real, sigma2[-1]))"
   ]
  },
  {
   "cell_type": "code",
   "execution_count": null,
   "metadata": {},
   "outputs": [],
   "source": []
  }
 ],
 "metadata": {
  "kernelspec": {
   "display_name": "Python 3",
   "language": "python",
   "name": "python3"
  },
  "language_info": {
   "codemirror_mode": {
    "name": "ipython",
    "version": 3
   },
   "file_extension": ".py",
   "mimetype": "text/x-python",
   "name": "python",
   "nbconvert_exporter": "python",
   "pygments_lexer": "ipython3",
   "version": "3.6.5"
  }
 },
 "nbformat": 4,
 "nbformat_minor": 2
}
