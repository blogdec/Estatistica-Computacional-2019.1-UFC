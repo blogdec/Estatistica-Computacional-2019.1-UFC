{
 "cells": [
  {
   "cell_type": "markdown",
   "metadata": {},
   "source": [
    "# CC0289 - ESTATISTICA COMPUTACIONAL - 2019.1 - UFC "
   ]
  },
  {
   "cell_type": "markdown",
   "metadata": {},
   "source": [
    "## Números Pseudo-aleatórios "
   ]
  },
  {
   "cell_type": "markdown",
   "metadata": {},
   "source": [
    "Geração de números aleatórios é um assunto extremamente importante, pois em muitas áreas do conhecimento se faz necessário entender certo comportamento de um fenômeno. A capacidade de gerar número aleatórios puro é uma atividade que exige uma observação de um fenômeno natural, dito isso o computador que trabalha com passos bem delineados(Algoritmos) entrega geradores de números pseudo-aleatórios.\n",
    "\n",
    "Existem vários algoritmos geradores de números aleatórios, um dos mais clássicos método das congruências lineares, em linhas gerais dado um número inicial $x_{0}$ conhecido como semente, o próximo número da sequência é dado por:\n",
    "\n",
    "$$ x_{1} = (ax_{0} + b) \\: \\% \\:  m $$\n",
    "    \n",
    "\n",
    "Em geral, o número $x_{i+1}$ é obtido a partir do número $x_{i}$ pela fórmula.\n",
    "\n",
    "$$ x_{i+1} = (ax_{i} + b) \\: \\% \\:  m $$\n",
    "\n",
    "\n",
    "Onde $a, \\, b $ e $ m $ são números escolhidos. O operador $\\%$ indica resto da divisão, consequentemente os números gerados estão entre $0 \\: $ e $  \\: m-1$. Outro definição importante é Período, que é o tamanho da sequência gerada, se o período é igual a $m$, o gerador é dito ser de período completo."
   ]
  },
  {
   "cell_type": "markdown",
   "metadata": {},
   "source": [
    "Sejam $x_{0}$ = 8, $a$ = 13, $b$ = 16 e $m$ = 27, tem período completo, segue uma breve implementação do gerador de congruência Linear."
   ]
  },
  {
   "cell_type": "code",
   "execution_count": 5,
   "metadata": {},
   "outputs": [
    {
     "name": "stdout",
     "output_type": "stream",
     "text": [
      "12\n",
      "10\n",
      "11\n"
     ]
    }
   ],
   "source": [
    "def CongruenciaLinear(x0, a, b, m):\n",
    "    return (a * x0 + b) % m\n",
    "\n",
    "print(CongruenciaLinear(8, 13, 16, 27))  # 12\n",
    "print(CongruenciaLinear(12, 13, 16, 27)) # 10\n",
    "print(CongruenciaLinear(10, 13, 16, 27)) # 11"
   ]
  },
  {
   "cell_type": "markdown",
   "metadata": {},
   "source": [
    "Outro importante algoritmo, é o Gerador Mersenne Twister, que é utilizado nas Linguagens Python e R e pelo software Microsoft Excel."
   ]
  },
  {
   "cell_type": "code",
   "execution_count": null,
   "metadata": {},
   "outputs": [],
   "source": []
  }
 ],
 "metadata": {
  "kernelspec": {
   "display_name": "Python 3",
   "language": "python",
   "name": "python3"
  },
  "language_info": {
   "codemirror_mode": {
    "name": "ipython",
    "version": 3
   },
   "file_extension": ".py",
   "mimetype": "text/x-python",
   "name": "python",
   "nbconvert_exporter": "python",
   "pygments_lexer": "ipython3",
   "version": "3.7.1"
  }
 },
 "nbformat": 4,
 "nbformat_minor": 2
}
